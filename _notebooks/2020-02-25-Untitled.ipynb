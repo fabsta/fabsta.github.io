{
 "cells": [
  {
   "cell_type": "code",
   "execution_count": 1,
   "metadata": {},
   "outputs": [],
   "source": [
    "import autogluon as ag\n",
    "from autogluon import TabularPrediction as task\n"
   ]
  },
  {
   "cell_type": "code",
   "execution_count": 2,
   "metadata": {},
   "outputs": [
    {
     "name": "stderr",
     "output_type": "stream",
     "text": [
      "Loaded data from: https://autogluon.s3.amazonaws.com/datasets/Inc/train.csv | Columns = 15 / 15 | Rows = 39073 -> 39073\n"
     ]
    },
    {
     "name": "stdout",
     "output_type": "stream",
     "text": [
      "   age   workclass  fnlwgt   education  education-num       marital-status  \\\n",
      "0   25     Private  178478   Bachelors             13        Never-married   \n",
      "1   23   State-gov   61743     5th-6th              3        Never-married   \n",
      "2   46     Private  376789     HS-grad              9        Never-married   \n",
      "3   55           ?  200235     HS-grad              9   Married-civ-spouse   \n",
      "4   36     Private  224541     7th-8th              4   Married-civ-spouse   \n",
      "\n",
      "           occupation    relationship    race      sex  capital-gain  \\\n",
      "0        Tech-support       Own-child   White   Female             0   \n",
      "1    Transport-moving   Not-in-family   White     Male             0   \n",
      "2       Other-service   Not-in-family   White     Male             0   \n",
      "3                   ?         Husband   White     Male             0   \n",
      "4   Handlers-cleaners         Husband   White     Male             0   \n",
      "\n",
      "   capital-loss  hours-per-week  native-country   class  \n",
      "0             0              40   United-States   <=50K  \n",
      "1             0              35   United-States   <=50K  \n",
      "2             0              15   United-States   <=50K  \n",
      "3             0              50   United-States    >50K  \n",
      "4             0              40     El-Salvador   <=50K  \n"
     ]
    }
   ],
   "source": [
    "train_data = task.Dataset(file_path='https://autogluon.s3.amazonaws.com/datasets/Inc/train.csv')\n",
    "train_data = train_data.head(500) # subsample 500 data points for faster demo\n",
    "print(train_data.head())\n"
   ]
  },
  {
   "cell_type": "code",
   "execution_count": 3,
   "metadata": {},
   "outputs": [
    {
     "name": "stdout",
     "output_type": "stream",
     "text": [
      "Summary of class variable: \n",
      " count        500\n",
      "unique         2\n",
      "top        <=50K\n",
      "freq         394\n",
      "Name: class, dtype: object\n"
     ]
    }
   ],
   "source": [
    "label_column = 'class'\n",
    "print(\"Summary of class variable: \\n\", train_data[label_column].describe())\n"
   ]
  },
  {
   "cell_type": "code",
   "execution_count": 4,
   "metadata": {},
   "outputs": [
    {
     "name": "stderr",
     "output_type": "stream",
     "text": [
      "Beginning AutoGluon training ...\n",
      "Preprocessing data ...\n",
      "Here are the first 10 unique label values in your data:  [' <=50K' ' >50K']\n",
      "AutoGluon infers your prediction problem is: binary  (because only two unique label-values observed)\n",
      "If this is wrong, please specify `problem_type` argument in fit() instead (You may specify problem_type as one of: ['binary', 'multiclass', 'regression'])\n",
      "\n",
      "Selected class <--> label mapping:  class 1 =  >50K, class 0 =  <=50K\n",
      "\tData preprocessing and feature engineering runtime = 0.16s ...\n",
      "AutoGluon will gauge predictive performance using evaluation metric: accuracy\n",
      "To change this, specify the eval_metric argument of fit()\n",
      "/usr/local/Cellar/python/3.7.4/Frameworks/Python.framework/Versions/3.7/lib/python3.7/imp.py:342: DeprecationWarning: Using or importing the ABCs from 'collections' instead of from 'collections.abc' is deprecated, and in 3.8 it will stop working\n",
      "  return _load(spec)\n",
      "Fitting model: RandomForestClassifierGini ...\n",
      "\t0.69s\t = Training runtime\n",
      "\t0.9\t = Validation accuracy score\n",
      "Fitting model: RandomForestClassifierEntr ...\n",
      "\t0.7s\t = Training runtime\n",
      "\t0.9\t = Validation accuracy score\n",
      "Fitting model: ExtraTreesClassifierGini ...\n",
      "\t0.51s\t = Training runtime\n",
      "\t0.87\t = Validation accuracy score\n",
      "Fitting model: ExtraTreesClassifierEntr ...\n",
      "\t0.48s\t = Training runtime\n",
      "\t0.86\t = Validation accuracy score\n",
      "Fitting model: KNeighborsClassifierUnif ...\n",
      "\t0.02s\t = Training runtime\n",
      "\t0.8\t = Validation accuracy score\n",
      "Fitting model: KNeighborsClassifierDist ...\n",
      "\t0.01s\t = Training runtime\n",
      "\t0.77\t = Validation accuracy score\n",
      "Fitting model: LightGBMClassifier ...\n",
      "\t0.74s\t = Training runtime\n",
      "\t0.88\t = Validation accuracy score\n",
      "Fitting model: CatboostClassifier ...\n",
      "\t1.11s\t = Training runtime\n",
      "\t0.9\t = Validation accuracy score\n",
      "Fitting model: NeuralNetClassifier ...\n",
      "\t7.53s\t = Training runtime\n",
      "\t0.87\t = Validation accuracy score\n",
      "Fitting model: LightGBMClassifierCustom ...\n",
      "\t1.13s\t = Training runtime\n",
      "\t0.89\t = Validation accuracy score\n",
      "Fitting model: weighted_ensemble_l1 ...\n",
      "\t0.59s\t = Training runtime\n",
      "\t0.9\t = Validation accuracy score\n",
      "AutoGluon training complete, total runtime = 16.0s ...\n"
     ]
    }
   ],
   "source": [
    "dir = 'agModels-predictClass' # specifies folder where to store trained models\n",
    "predictor = task.fit(train_data=train_data, label=label_column, output_directory=dir)\n"
   ]
  },
  {
   "cell_type": "code",
   "execution_count": 5,
   "metadata": {},
   "outputs": [
    {
     "name": "stderr",
     "output_type": "stream",
     "text": [
      "Loaded data from: https://autogluon.s3.amazonaws.com/datasets/Inc/test.csv | Columns = 15 / 15 | Rows = 9769 -> 9769\n"
     ]
    },
    {
     "name": "stdout",
     "output_type": "stream",
     "text": [
      "   age          workclass  fnlwgt      education  education-num  \\\n",
      "0   31            Private  169085           11th              7   \n",
      "1   17   Self-emp-not-inc  226203           12th              8   \n",
      "2   47            Private   54260      Assoc-voc             11   \n",
      "3   21            Private  176262   Some-college             10   \n",
      "4   17            Private  241185           12th              8   \n",
      "\n",
      "        marital-status        occupation relationship    race      sex  \\\n",
      "0   Married-civ-spouse             Sales         Wife   White   Female   \n",
      "1        Never-married             Sales    Own-child   White     Male   \n",
      "2   Married-civ-spouse   Exec-managerial      Husband   White     Male   \n",
      "3        Never-married   Exec-managerial    Own-child   White   Female   \n",
      "4        Never-married    Prof-specialty    Own-child   White     Male   \n",
      "\n",
      "   capital-gain  capital-loss  hours-per-week  native-country  \n",
      "0             0             0              20   United-States  \n",
      "1             0             0              45   United-States  \n",
      "2             0          1887              60   United-States  \n",
      "3             0             0              30   United-States  \n",
      "4             0             0              20   United-States  \n"
     ]
    }
   ],
   "source": [
    "test_data = task.Dataset(file_path='https://autogluon.s3.amazonaws.com/datasets/Inc/test.csv')\n",
    "y_test = test_data[label_column]  # values to predict\n",
    "test_data_nolab = test_data.drop(labels=[label_column],axis=1) # delete label column to prove we're not cheating\n",
    "print(test_data_nolab.head())\n"
   ]
  },
  {
   "cell_type": "code",
   "execution_count": 6,
   "metadata": {},
   "outputs": [
    {
     "name": "stderr",
     "output_type": "stream",
     "text": [
      "Evaluation: accuracy on test data: 0.824854\n",
      "Evaluations on test data:\n",
      "{\n",
      "    \"accuracy\": 0.8248541304125294,\n",
      "    \"accuracy_score\": 0.8248541304125294,\n",
      "    \"balanced_accuracy_score\": 0.7104318244165013,\n",
      "    \"matthews_corrcoef\": 0.47480025693977573,\n",
      "    \"f1_score\": 0.8248541304125294\n",
      "}\n"
     ]
    },
    {
     "name": "stdout",
     "output_type": "stream",
     "text": [
      "Predictions:   [' <=50K' ' <=50K' ' <=50K' ... ' <=50K' ' <=50K' ' <=50K']\n"
     ]
    },
    {
     "name": "stderr",
     "output_type": "stream",
     "text": [
      "Detailed (per-class) classification report:\n",
      "{\n",
      "    \" <=50K\": {\n",
      "        \"precision\": 0.8546712802768166,\n",
      "        \"recall\": 0.928197557374849,\n",
      "        \"f1-score\": 0.8899182911921766,\n",
      "        \"support\": 7451\n",
      "    },\n",
      "    \" >50K\": {\n",
      "        \"precision\": 0.6809779367918902,\n",
      "        \"recall\": 0.4926660914581536,\n",
      "        \"f1-score\": 0.5717146433041302,\n",
      "        \"support\": 2318\n",
      "    },\n",
      "    \"accuracy\": 0.8248541304125294,\n",
      "    \"macro avg\": {\n",
      "        \"precision\": 0.7678246085343534,\n",
      "        \"recall\": 0.7104318244165013,\n",
      "        \"f1-score\": 0.7308164672481534,\n",
      "        \"support\": 9769\n",
      "    },\n",
      "    \"weighted avg\": {\n",
      "        \"precision\": 0.8134571160636874,\n",
      "        \"recall\": 0.8248541304125294,\n",
      "        \"f1-score\": 0.8144145491710391,\n",
      "        \"support\": 9769\n",
      "    }\n",
      "}\n"
     ]
    }
   ],
   "source": [
    "predictor = task.load(dir) # unnecessary, just demonstrates how to load previously-trained predictor from file\n",
    "\n",
    "y_pred = predictor.predict(test_data_nolab)\n",
    "print(\"Predictions:  \", y_pred)\n",
    "perf = predictor.evaluate_predictions(y_true=y_test, y_pred=y_pred, auxiliary_metrics=True)\n"
   ]
  },
  {
   "cell_type": "code",
   "execution_count": null,
   "metadata": {},
   "outputs": [],
   "source": []
  }
 ],
 "metadata": {
  "kernelspec": {
   "display_name": "Python 3",
   "language": "python",
   "name": "python3"
  },
  "language_info": {
   "codemirror_mode": {
    "name": "ipython",
    "version": 3
   },
   "file_extension": ".py",
   "mimetype": "text/x-python",
   "name": "python",
   "nbconvert_exporter": "python",
   "pygments_lexer": "ipython3",
   "version": "3.7.4"
  }
 },
 "nbformat": 4,
 "nbformat_minor": 2
}
